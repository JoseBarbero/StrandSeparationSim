{
 "cells": [
  {
   "cell_type": "code",
   "execution_count": 3,
   "metadata": {},
   "outputs": [],
   "source": [
    "import numpy as np\n",
    "import re\n",
    "import os\n",
    "import autokeras as ak\n",
    "import pandas as pd\n",
    "import matplotlib.pyplot as plt\n",
    "import keras\n",
    "from keras.models import Sequential\n",
    "from keras.layers import Dense, Activation, Dropout, Flatten, Conv2D, MaxPooling2D, AveragePooling2D, LayerNormalization\n",
    "from ReadData import read_data_as_img, read_data_structured, read_data_st\n",
    "from Preprocessing import ros, smote, adasyn\n",
    "from Results import report_results_imagedata, make_spider_by_temp, report_results_st, test_results\n",
    "from keras import backend as K\n",
    "from sklearn.model_selection import train_test_split\n",
    "from tensorflow.keras.models import load_model\n",
    "from keras import Sequential\n",
    "from sklearn.metrics import f1_score, roc_auc_score, accuracy_score, log_loss, fowlkes_mallows_score, cohen_kappa_score, precision_score, recall_score\n",
    "from datetime import datetime\n",
    "from contextlib import redirect_stdout\n",
    "seed = 42\n",
    "np.random.seed(seed)"
   ]
  },
  {
   "cell_type": "code",
   "execution_count": null,
   "metadata": {},
   "outputs": [],
   "source": [
    "data_dir = \"../data\"\n",
    "X_train, y_train = read_data_st(data_dir, \"train\")\n",
    "X_val, y_val = read_data_st(data_dir, \"val\")\n",
    "X_test, y_test = read_data_st(data_dir, \"test\")\n",
    "\n",
    "#X_train = np.concatenate((X_train, X_val))\n",
    "#y_train = np.concatenate((y_train, y_val))\n",
    "#X_train, y_train = smote(X_train, y_train)\n",
    "X_train = X_train.reshape(*X_train.shape[:3], 1)\n",
    "X_test = X_test.reshape(*X_test.shape[:3], 1)"
   ]
  },
  {
   "cell_type": "code",
   "execution_count": 19,
   "metadata": {},
   "outputs": [],
   "source": [
    "def widenet():\n",
    "    model = keras.Sequential()\n",
    "    \n",
    "    model.add(Conv2D(filters=32, kernel_size=(2, 2), activation='relu', input_shape=(11,200,1)))\n",
    "    model.add(MaxPooling2D((2, 2)))\n",
    "    model.add(Dropout(0.25))\n",
    "\n",
    "    model.add(Conv2D(filters=32, kernel_size=(2, 2), activation='relu'))\n",
    "    model.add(MaxPooling2D((2, 2)))\n",
    "    model.add(Dropout(0.25))\n",
    "\n",
    "    model.add(Conv2D(filters=32, kernel_size=(2, 2), activation='relu'))\n",
    "    model.add(Dropout(0.25))\n",
    "\n",
    "    model.add(Flatten())\n",
    "\n",
    "    model.add(Dense(units=256, activation='relu'))\n",
    "\n",
    "    model.add(Dense(1, activation = 'sigmoid'))\n",
    "\n",
    "    \n",
    "    # Compile the model\n",
    "    # SGD\n",
    "    # RMSprop\n",
    "    # Adam\n",
    "    # Adadelta\n",
    "    # Adagrad\n",
    "    # Adamax\n",
    "    # Nadam\n",
    "    # Ftrl\n",
    "    model.compile(optimizer=\"adam\", loss=keras.losses.BinaryCrossentropy(), metrics=[\"accuracy\", \"AUC\"])\n",
    "\n",
    "    return model"
   ]
  },
  {
   "cell_type": "code",
   "execution_count": 20,
   "metadata": {},
   "outputs": [
    {
     "name": "stdout",
     "output_type": "stream",
     "text": [
      "Model: \"sequential_2\"\n",
      "_________________________________________________________________\n",
      "Layer (type)                 Output Shape              Param #   \n",
      "=================================================================\n",
      "conv2d_6 (Conv2D)            (None, 10, 199, 32)       160       \n",
      "_________________________________________________________________\n",
      "max_pooling2d_4 (MaxPooling2 (None, 5, 99, 32)         0         \n",
      "_________________________________________________________________\n",
      "dropout_6 (Dropout)          (None, 5, 99, 32)         0         \n",
      "_________________________________________________________________\n",
      "conv2d_7 (Conv2D)            (None, 4, 98, 32)         4128      \n",
      "_________________________________________________________________\n",
      "max_pooling2d_5 (MaxPooling2 (None, 2, 49, 32)         0         \n",
      "_________________________________________________________________\n",
      "dropout_7 (Dropout)          (None, 2, 49, 32)         0         \n",
      "_________________________________________________________________\n",
      "conv2d_8 (Conv2D)            (None, 1, 48, 32)         4128      \n",
      "_________________________________________________________________\n",
      "dropout_8 (Dropout)          (None, 1, 48, 32)         0         \n",
      "_________________________________________________________________\n",
      "flatten_2 (Flatten)          (None, 1536)              0         \n",
      "_________________________________________________________________\n",
      "dense_4 (Dense)              (None, 256)               393472    \n",
      "_________________________________________________________________\n",
      "dense_5 (Dense)              (None, 1)                 257       \n",
      "=================================================================\n",
      "Total params: 402,145\n",
      "Trainable params: 402,145\n",
      "Non-trainable params: 0\n",
      "_________________________________________________________________\n",
      "1170/1170 [==============================] - 12s 11ms/step - loss: 0.2768 - accuracy: 0.8859 - auc: 0.8299 - val_loss: 0.0922 - val_accuracy: 1.0000 - val_auc: 0.0000e+00\n"
     ]
    },
    {
     "data": {
      "text/plain": [
       "<tensorflow.python.keras.callbacks.History at 0x7f6933aad860>"
      ]
     },
     "execution_count": 20,
     "metadata": {},
     "output_type": "execute_result"
    }
   ],
   "source": [
    "model = widenet()\n",
    "\n",
    "model.summary()\n",
    "\n",
    "model.fit(X_train, y_train,\n",
    "            shuffle=True,\n",
    "            batch_size=32,\n",
    "            epochs=1,\n",
    "            verbose=True,\n",
    "            validation_split=0.2)"
   ]
  },
  {
   "cell_type": "code",
   "execution_count": 21,
   "metadata": {},
   "outputs": [],
   "source": [
    "y_test_pred = model.predict(X_test)\n",
    "y_test_pred_round = y_test_pred.round().astype(int)"
   ]
  },
  {
   "cell_type": "code",
   "execution_count": 22,
   "metadata": {},
   "outputs": [
    {
     "data": {
      "text/plain": [
       "array([[0.14920753],\n",
       "       [0.29627657],\n",
       "       [0.3582521 ],\n",
       "       ...,\n",
       "       [0.11626548],\n",
       "       [0.00918728],\n",
       "       [0.01114103]], dtype=float32)"
      ]
     },
     "execution_count": 22,
     "metadata": {},
     "output_type": "execute_result"
    }
   ],
   "source": [
    "y_test_pred"
   ]
  },
  {
   "cell_type": "code",
   "execution_count": 27,
   "metadata": {},
   "outputs": [
    {
     "name": "stdout",
     "output_type": "stream",
     "text": [
      "\tPredicciones clase 0: 11262\n",
      "\tPredicciones clase 1: 0\n",
      "\tInstancias clase 0: 10238\n",
      "\tInstancias clase 1: 1024\n",
      "\tF1 score: 0.0\n",
      "\tBinary crossentropy: 0.23091646231716864\n",
      "\tAccuracy score: 0.909074764695436\n",
      "\tAUC ROC: 0.8617254079471088\n"
     ]
    }
   ],
   "source": [
    "print(f\"\\tPredicciones clase 0: {sum(y_test_pred_round == 0).sum()}\")\n",
    "print(f\"\\tPredicciones clase 1: {sum(y_test_pred_round == 1).sum()}\")\n",
    "print(f\"\\tInstancias clase 0: {np.count_nonzero(y_test == 0)}\")\n",
    "print(f\"\\tInstancias clase 1: {np.count_nonzero(y_test == 1)}\")\n",
    "\n",
    "print(f\"\\tF1 score: {f1_score(y_test, y_test_pred_round)}\")\n",
    "print(f\"\\tBinary crossentropy: {log_loss(y_test, y_test_pred, eps=1e-15)}\")\n",
    "print(f\"\\tAccuracy score: {accuracy_score(y_test, y_test_pred_round)}\")\n",
    "print(f\"\\tAUC ROC: {roc_auc_score(y_test, y_test_pred)}\")"
   ]
  },
  {
   "cell_type": "code",
   "execution_count": null,
   "metadata": {},
   "outputs": [],
   "source": []
  }
 ],
 "metadata": {
  "kernelspec": {
   "display_name": "Python 3",
   "language": "python",
   "name": "python3"
  },
  "language_info": {
   "codemirror_mode": {
    "name": "ipython",
    "version": 3
   },
   "file_extension": ".py",
   "mimetype": "text/x-python",
   "name": "python",
   "nbconvert_exporter": "python",
   "pygments_lexer": "ipython3",
   "version": "3.6.9"
  }
 },
 "nbformat": 4,
 "nbformat_minor": 4
}
